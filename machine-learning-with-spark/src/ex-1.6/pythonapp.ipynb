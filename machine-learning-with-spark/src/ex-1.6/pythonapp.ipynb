{
 "cells": [
  {
   "cell_type": "code",
   "execution_count": 1,
   "metadata": {
    "collapsed": false
   },
   "outputs": [
    {
     "name": "stdout",
     "output_type": "stream",
     "text": [
      "Total pruchase: 5\n",
      "Unique users: 4\n",
      "Total revenue: 39.91\n",
      "Most popular product: John with 2 purchases\n"
     ]
    }
   ],
   "source": [
    "data = sc.textFile(\"data/UserPurchaseHistory.csv\").map(lambda line: line.split(\",\")).map(lambda record: (record[0], record[1], record[2]))\n",
    "\n",
    "numPurchases = data.count()\n",
    "uniqueUsers = data.map(lambda record: record[0]).distinct().count()\n",
    "totalRevenue = data.map(lambda record: float(record[2])).sum()\n",
    "products = data.map(lambda record: (record[0], 1.0)).reduceByKey(lambda a, b: a+b).collect()\n",
    "mostPopular = sorted(products, key=lambda x: x[1], reverse=True)[0]\n",
    "\n",
    "print \"Total pruchase: %d\" % numPurchases\n",
    "print \"Unique users: %d\" % uniqueUsers\n",
    "print \"Total revenue: %2.2f\" % totalRevenue\n",
    "print \"Most popular product: %s with %d purchases\" % (mostPopular[0], mostPopular[1])"
   ]
  },
  {
   "cell_type": "code",
   "execution_count": null,
   "metadata": {
    "collapsed": true
   },
   "outputs": [],
   "source": []
  }
 ],
 "metadata": {
  "kernelspec": {
   "display_name": "Python [Root]",
   "language": "python",
   "name": "Python [Root]"
  },
  "language_info": {
   "codemirror_mode": {
    "name": "ipython",
    "version": 2
   },
   "file_extension": ".py",
   "mimetype": "text/x-python",
   "name": "python",
   "nbconvert_exporter": "python",
   "pygments_lexer": "ipython2",
   "version": "2.7.12"
  }
 },
 "nbformat": 4,
 "nbformat_minor": 0
}
