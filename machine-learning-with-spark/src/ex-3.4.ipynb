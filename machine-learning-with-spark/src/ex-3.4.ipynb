{
 "cells": [
  {
   "cell_type": "code",
   "execution_count": 1,
   "metadata": {
    "collapsed": true
   },
   "outputs": [],
   "source": [
    "user_data = sc.textFile(\"ml-100k/u.user\")\n",
    "user_fields = user_data.map(lambda line: line.split(\"|\"))"
   ]
  },
  {
   "cell_type": "code",
   "execution_count": 2,
   "metadata": {
    "collapsed": false
   },
   "outputs": [
    {
     "name": "stdout",
     "output_type": "stream",
     "text": [
      "Encoding of 'doctor': 2\n",
      "Encoding of 'programmer': 14\n"
     ]
    }
   ],
   "source": [
    "all_occupations = user_fields.map(lambda fields: fields[3]).distinct().collect()\n",
    "all_occupations.sort()\n",
    "\n",
    "idx = 0\n",
    "all_occupations_dict = {}\n",
    "for o in all_occupations:\n",
    "    all_occupations_dict[o] = idx\n",
    "    idx += 1\n",
    "\n",
    "print \"Encoding of 'doctor': %d\" % all_occupations_dict['doctor']\n",
    "print \"Encoding of 'programmer': %d\" % all_occupations_dict['programmer']"
   ]
  },
  {
   "cell_type": "code",
   "execution_count": 3,
   "metadata": {
    "collapsed": false
   },
   "outputs": [
    {
     "name": "stdout",
     "output_type": "stream",
     "text": [
      "Binary feature vector: [ 0.  0.  0.  0.  0.  0.  0.  0.  0.  0.  0.  0.  0.  0.  1.  0.  0.  0.\n",
      "  0.  0.  0.]\n",
      "Length of binary vector: 21\n"
     ]
    }
   ],
   "source": [
    "import numpy as np\n",
    "\n",
    "k = len(all_occupations_dict)\n",
    "binary_x = np.zeros(k)\n",
    "k_programmer = all_occupations_dict['programmer']\n",
    "binary_x[k_programmer] = 1\n",
    "\n",
    "print \"Binary feature vector: %s\" % binary_x\n",
    "print \"Length of binary vector: %d\" % k"
   ]
  },
  {
   "cell_type": "code",
   "execution_count": 4,
   "metadata": {
    "collapsed": false
   },
   "outputs": [
    {
     "data": {
      "text/plain": [
       "[[u'196', u'242', u'3', u'881250949'],\n",
       " [u'186', u'302', u'3', u'891717742'],\n",
       " [u'22', u'377', u'1', u'878887116'],\n",
       " [u'244', u'51', u'2', u'880606923'],\n",
       " [u'166', u'346', u'1', u'886397596']]"
      ]
     },
     "execution_count": 4,
     "metadata": {},
     "output_type": "execute_result"
    }
   ],
   "source": [
    "rating_data = sc.textFile(\"ml-100k/u.data\")\n",
    "rating_fields = rating_data.map(lambda line: line.split(\"\\t\"))\n",
    "rating_fields.take(5)"
   ]
  },
  {
   "cell_type": "code",
   "execution_count": 5,
   "metadata": {
    "collapsed": false
   },
   "outputs": [
    {
     "data": {
      "text/plain": [
       "[16, 21, 8, 6, 6]"
      ]
     },
     "execution_count": 5,
     "metadata": {},
     "output_type": "execute_result"
    }
   ],
   "source": [
    "def extract_datetime(ts):\n",
    "    import datetime\n",
    "    return datetime.datetime.fromtimestamp(ts)\n",
    "\n",
    "timestamps = rating_fields.map(lambda fields: int(fields[3]))\n",
    "hour_of_day = timestamps.map(lambda ts: extract_datetime(ts).hour)\n",
    "hour_of_day.take(5)"
   ]
  },
  {
   "cell_type": "code",
   "execution_count": 6,
   "metadata": {
    "collapsed": false
   },
   "outputs": [
    {
     "data": {
      "text/plain": [
       "['afternoon', 'evening', 'morning', 'night', 'night']"
      ]
     },
     "execution_count": 6,
     "metadata": {},
     "output_type": "execute_result"
    }
   ],
   "source": [
    "def assign_tod(hr):\n",
    "    times_of_day = {\n",
    "        'morning' : range(7, 12),\n",
    "        'lunch' : range(12, 14),\n",
    "        'afternoon' : range(14, 18),\n",
    "        'evening' : range(18, 23),\n",
    "        'night' : range(23, 24) + range(0, 7),\n",
    "    }    \n",
    "    for k, v in times_of_day.iteritems():\n",
    "        if hr in v:\n",
    "            return k\n",
    "        \n",
    "time_of_day = hour_of_day.map(lambda hr: assign_tod(hr))\n",
    "time_of_day.take(5)"
   ]
  },
  {
   "cell_type": "code",
   "execution_count": 7,
   "metadata": {
    "collapsed": false
   },
   "outputs": [
    {
     "name": "stdout",
     "output_type": "stream",
     "text": [
      "[ 0.49671415 -0.1382643   0.64768854  1.52302986 -0.23415337 -0.23413696\n",
      "  1.57921282  0.76743473 -0.46947439  0.54256004]\n",
      "2.59080239507\n",
      "[ 0.19172213 -0.05336737  0.24999534  0.58786029 -0.09037871 -0.09037237\n",
      "  0.60954584  0.29621508 -0.1812081   0.20941776]\n",
      "1.0\n"
     ]
    }
   ],
   "source": [
    "np.random.seed(42)\n",
    "\n",
    "x = np.random.randn(10) # 返回常態分佈樣本\n",
    "norm_of_x = np.linalg.norm(x) # 計算二階泛數\n",
    "normalized_x = x / norm_of_x # 正則化特徵向量\n",
    "norm_of_normalized_x = np.linalg.norm(normalized_x) # 計算正則化向量的二階泛數\n",
    "\n",
    "print x\n",
    "print norm_of_x\n",
    "print normalized_x\n",
    "print norm_of_normalized_x"
   ]
  },
  {
   "cell_type": "code",
   "execution_count": 8,
   "metadata": {
    "collapsed": false
   },
   "outputs": [
    {
     "name": "stdout",
     "output_type": "stream",
     "text": [
      "2.59080239507\n"
     ]
    }
   ],
   "source": [
    "norm_of_x_by_hand = np.sqrt(reduce(lambda a,b: a+b, map(lambda n: n*n, x)))\n",
    "print norm_of_x_by_hand"
   ]
  },
  {
   "cell_type": "code",
   "execution_count": 9,
   "metadata": {
    "collapsed": false
   },
   "outputs": [
    {
     "name": "stdout",
     "output_type": "stream",
     "text": [
      "[ 0.19172213 -0.05336737  0.24999534  0.58786029 -0.09037871 -0.09037237\n",
      "  0.60954584  0.29621508 -0.1812081   0.20941776]\n"
     ]
    }
   ],
   "source": [
    "from pyspark.mllib.feature import Normalizer\n",
    "\n",
    "normalizer = Normalizer()\n",
    "vector = sc.parallelize([x])\n",
    "\n",
    "normalized_x = normalizer.transform(vector).first().toArray()\n",
    "print normalized_x"
   ]
  }
 ],
 "metadata": {
  "kernelspec": {
   "display_name": "Python [Root]",
   "language": "python",
   "name": "Python [Root]"
  },
  "language_info": {
   "codemirror_mode": {
    "name": "ipython",
    "version": 2
   },
   "file_extension": ".py",
   "mimetype": "text/x-python",
   "name": "python",
   "nbconvert_exporter": "python",
   "pygments_lexer": "ipython2",
   "version": "2.7.12"
  }
 },
 "nbformat": 4,
 "nbformat_minor": 0
}
