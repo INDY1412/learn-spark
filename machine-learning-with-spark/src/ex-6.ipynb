{
 "cells": [
  {
   "cell_type": "markdown",
   "metadata": {},
   "source": [
    "## 載入數據和查看"
   ]
  },
  {
   "cell_type": "code",
   "execution_count": 1,
   "metadata": {
    "collapsed": false
   },
   "outputs": [
    {
     "name": "stdout",
     "output_type": "stream",
     "text": [
      "[u'1', u'2011-01-01', u'1', u'0', u'1', u'0', u'0', u'6', u'0', u'1', u'0.24', u'0.2879', u'0.81', u'0', u'3', u'13', u'16']\n",
      "17379\n"
     ]
    }
   ],
   "source": [
    "path = \"data/hour_noheader.csv\"\n",
    "raw_data = sc.textFile(path)\n",
    "num_data = raw_data.count()\n",
    "records = raw_data.map(lambda x: x.split(\",\"))\n",
    "first = records.first()\n",
    "print first\n",
    "print num_data"
   ]
  },
  {
   "cell_type": "code",
   "execution_count": 2,
   "metadata": {
    "collapsed": false
   },
   "outputs": [
    {
     "data": {
      "text/plain": [
       "PythonRDD[4] at RDD at PythonRDD.scala:48"
      ]
     },
     "execution_count": 2,
     "metadata": {},
     "output_type": "execute_result"
    }
   ],
   "source": [
    "records.cache()"
   ]
  },
  {
   "cell_type": "code",
   "execution_count": 3,
   "metadata": {
    "collapsed": false
   },
   "outputs": [
    {
     "name": "stdout",
     "output_type": "stream",
     "text": [
      "Mapping of first categorical feature column: {u'1': 0, u'3': 1, u'2': 2, u'4': 3}\n"
     ]
    }
   ],
   "source": [
    "def get_mapping(rdd, idx):\n",
    "    return rdd.map(lambda fields: fields[idx]).distinct().zipWithIndex().collectAsMap()\n",
    "\n",
    "print \"Mapping of first categorical feature column: %s\" % get_mapping(records, 2)"
   ]
  },
  {
   "cell_type": "code",
   "execution_count": 4,
   "metadata": {
    "collapsed": false
   },
   "outputs": [
    {
     "name": "stdout",
     "output_type": "stream",
     "text": [
      "Feature vector length for categorical features: 57\n",
      "Feature vector length for numerical features: 4\n",
      "Total feature vector length: 61\n"
     ]
    }
   ],
   "source": [
    "mappings = [get_mapping(records, i) for i in range(2, 10)]\n",
    "cat_len = sum(map(len, mappings))\n",
    "num_len = len(records.first()[10:14])\n",
    "total_len = num_len + cat_len\n",
    "\n",
    "print \"Feature vector length for categorical features: %d\" % cat_len\n",
    "print \"Feature vector length for numerical features: %d\" % num_len\n",
    "print \"Total feature vector length: %d\" % total_len"
   ]
  },
  {
   "cell_type": "code",
   "execution_count": 5,
   "metadata": {
    "collapsed": false
   },
   "outputs": [
    {
     "data": {
      "text/plain": [
       "[4, 2, 12, 24, 2, 7, 2, 4]"
      ]
     },
     "execution_count": 5,
     "metadata": {},
     "output_type": "execute_result"
    }
   ],
   "source": [
    "map(len, mappings)"
   ]
  },
  {
   "cell_type": "markdown",
   "metadata": {},
   "source": [
    "## 為線性模型創建特徵向量"
   ]
  },
  {
   "cell_type": "code",
   "execution_count": 6,
   "metadata": {
    "collapsed": false
   },
   "outputs": [],
   "source": [
    "from pyspark.mllib.regression import LabeledPoint\n",
    "import numpy as np\n",
    "\n",
    "def extract_features(record):\n",
    "    cat_vec = np.zeros(cat_len)\n",
    "    i = 0\n",
    "    step = 0\n",
    "    for field in record[2:10]:\n",
    "        m = mappings[i]\n",
    "        idx = m[field]\n",
    "        cat_vec[idx + step] = 1\n",
    "        i = i + 1\n",
    "        step = step + len(m)\n",
    "    num_vec = np.array([float(field) for field in record[10:14]])\n",
    "    return np.concatenate((cat_vec, num_vec))\n",
    "\n",
    "def extract_label(record):\n",
    "    return float(record[-1])\n",
    "\n",
    "data = records.map(lambda r: LabeledPoint(extract_label(r), extract_features(r)))"
   ]
  },
  {
   "cell_type": "code",
   "execution_count": 7,
   "metadata": {
    "collapsed": false,
    "scrolled": true
   },
   "outputs": [
    {
     "name": "stdout",
     "output_type": "stream",
     "text": [
      "Raw data: [u'1', u'0', u'1', u'0', u'0', u'6', u'0', u'1', u'0.24', u'0.2879', u'0.81', u'0', u'3', u'13', u'16']\n",
      "Label: 16.0\n",
      "Linear Model feature vector: [1.0,0.0,0.0,0.0,0.0,1.0,0.0,0.0,0.0,1.0,0.0,0.0,0.0,0.0,0.0,0.0,0.0,0.0,0.0,0.0,0.0,0.0,0.0,1.0,0.0,0.0,0.0,0.0,0.0,0.0,0.0,0.0,0.0,0.0,0.0,0.0,0.0,0.0,0.0,0.0,0.0,0.0,0.0,1.0,0.0,0.0,0.0,0.0,0.0,0.0,1.0,0.0,1.0,1.0,0.0,0.0,0.0,0.24,0.2879,0.81,0.0]\n",
      "Linear Model feature vector length: 61\n"
     ]
    }
   ],
   "source": [
    "first_point = data.first()\n",
    "\n",
    "print \"Raw data: \" + str(first[2:])\n",
    "print \"Label: \" + str(first_point.label)\n",
    "print \"Linear Model feature vector: \" + str(first_point.features)\n",
    "print \"Linear Model feature vector length: \" + str(len(first_point.features))"
   ]
  },
  {
   "cell_type": "markdown",
   "metadata": {},
   "source": [
    "## 為決策樹創建特徵向量"
   ]
  },
  {
   "cell_type": "code",
   "execution_count": 8,
   "metadata": {
    "collapsed": false
   },
   "outputs": [],
   "source": [
    "def extract_features_dt(record):\n",
    "    return np.array(map(float, record[2:14]))\n",
    "\n",
    "data_dt = records.map(lambda r: LabeledPoint(extract_label(r), extract_features_dt(r)))"
   ]
  },
  {
   "cell_type": "code",
   "execution_count": 9,
   "metadata": {
    "collapsed": false
   },
   "outputs": [
    {
     "name": "stdout",
     "output_type": "stream",
     "text": [
      "Raw data: [u'1', u'0', u'1', u'0', u'0', u'6', u'0', u'1', u'0.24', u'0.2879', u'0.81', u'0', u'3', u'13', u'16']\n",
      "Label: 16.0\n",
      "Decision Tree feature vector: [1.0,0.0,1.0,0.0,0.0,6.0,0.0,1.0,0.24,0.2879,0.81,0.0]\n",
      "Decision Tree feature vector length: 12\n"
     ]
    }
   ],
   "source": [
    "first_point_dt = data_dt.first()\n",
    "\n",
    "print \"Raw data: \" + str(first[2:])\n",
    "print \"Label: \" + str(first_point_dt.label)\n",
    "print \"Decision Tree feature vector: \" + str(first_point_dt.features)\n",
    "print \"Decision Tree feature vector length: \" + str(len(first_point_dt.features))"
   ]
  },
  {
   "cell_type": "markdown",
   "metadata": {},
   "source": [
    "## 回歸模型的訓練與應用"
   ]
  },
  {
   "cell_type": "code",
   "execution_count": 10,
   "metadata": {
    "collapsed": false
   },
   "outputs": [],
   "source": [
    "from pyspark.mllib.regression import LinearRegressionWithSGD\n",
    "from pyspark.mllib.tree import DecisionTree\n",
    "\n",
    "#help(LinearRegressionWithSGD.train)\n",
    "#help(DecisionTree.trainRegressor)"
   ]
  },
  {
   "cell_type": "markdown",
   "metadata": {},
   "source": [
    "### 訓練線性模型"
   ]
  },
  {
   "cell_type": "code",
   "execution_count": 11,
   "metadata": {
    "collapsed": false
   },
   "outputs": [
    {
     "name": "stderr",
     "output_type": "stream",
     "text": [
      "/usr/local/spark/python/pyspark/mllib/regression.py:281: UserWarning: Deprecated in 2.0.0. Use ml.regression.LinearRegression.\n",
      "  warnings.warn(\"Deprecated in 2.0.0. Use ml.regression.LinearRegression.\")\n"
     ]
    },
    {
     "name": "stdout",
     "output_type": "stream",
     "text": [
      "Linear Model predictions: [(16.0, 135.94648455498356), (40.0, 134.38058174607249), (32.0, 134.18407938613737), (13.0, 133.88699144084512), (1.0, 133.77899037657545)]\n"
     ]
    }
   ],
   "source": [
    "linear_model = LinearRegressionWithSGD.train(data, iterations=10, step=0.1, intercept=False)\n",
    "true_vs_predicted = data.map(lambda p: (p.label, linear_model.predict(p.features)))\n",
    "\n",
    "print \"Linear Model predictions: \" + str(true_vs_predicted.take(5))"
   ]
  },
  {
   "cell_type": "markdown",
   "metadata": {},
   "source": [
    "### 訓練決策樹模型"
   ]
  },
  {
   "cell_type": "code",
   "execution_count": 12,
   "metadata": {
    "collapsed": false
   },
   "outputs": [
    {
     "name": "stdout",
     "output_type": "stream",
     "text": [
      "Decision Tree predictions: [(16.0, 54.913223140495866), (40.0, 54.913223140495866), (32.0, 53.171052631578945), (13.0, 14.284023668639053), (1.0, 14.284023668639053)]\n",
      "Decision Tree depth: 5\n",
      "Decision Tree number of nodes: 63\n"
     ]
    }
   ],
   "source": [
    "dt_model = DecisionTree.trainRegressor(data_dt, {})\n",
    "preds = dt_model.predict(data_dt.map(lambda p: p.features))\n",
    "actual = data.map(lambda p: p.label)\n",
    "true_vs_predicted_dt = actual.zip(preds)\n",
    "\n",
    "print \"Decision Tree predictions: \" + str(true_vs_predicted_dt.take(5))\n",
    "print \"Decision Tree depth: \" + str(dt_model.depth())\n",
    "print \"Decision Tree number of nodes: \" + str(dt_model.numNodes())"
   ]
  },
  {
   "cell_type": "markdown",
   "metadata": {},
   "source": [
    "## 評估回歸模型性能\n",
    "\n",
    "- 均方誤差 (MSE, Mean Squared Error)\n",
    "- 均方根誤差 (RMSE, Root Mean Squared Error)\n",
    "- 平均絕對誤差 (MAE, Mean Absoluate Error)\n",
    "- 均方根對數誤差 (RMSLE, Root Mean Squared Log Error)"
   ]
  },
  {
   "cell_type": "code",
   "execution_count": 13,
   "metadata": {
    "collapsed": true
   },
   "outputs": [],
   "source": [
    "def squared_error(actual, pred):\n",
    "    return (pred - actual)**2\n",
    "\n",
    "def abs_error(actual, pred):\n",
    "    return np.abs(pred - actual)\n",
    "\n",
    "def squared_log_error(actual, pred):\n",
    "    return (np.log(pred + 1) - np.log(actual + 1))**2"
   ]
  },
  {
   "cell_type": "markdown",
   "metadata": {},
   "source": [
    "### 評估線性模型"
   ]
  },
  {
   "cell_type": "code",
   "execution_count": 14,
   "metadata": {
    "collapsed": false
   },
   "outputs": [
    {
     "name": "stdout",
     "output_type": "stream",
     "text": [
      "Linear Model - Mean Squared Error: 29897.3402\n",
      "Linear Model - Mean Absoluate Error: 130.5326\n",
      "Linear Model - Root Mean Squared Log Error: 1.4804\n"
     ]
    }
   ],
   "source": [
    "mse = true_vs_predicted.map(lambda (t, p): squared_error(t, p)).mean()\n",
    "mae = true_vs_predicted.map(lambda (t, p): abs_error(t, p)).mean()\n",
    "rmsle = np.sqrt(true_vs_predicted.map(lambda (t, p): squared_log_error(t, p)).mean())\n",
    "\n",
    "print \"Linear Model - Mean Squared Error: %2.4f\" % mse\n",
    "print \"Linear Model - Mean Absoluate Error: %2.4f\" % mae\n",
    "print \"Linear Model - Root Mean Squared Log Error: %2.4f\" % rmsle"
   ]
  },
  {
   "cell_type": "markdown",
   "metadata": {},
   "source": [
    "### 評估決策樹模型"
   ]
  },
  {
   "cell_type": "code",
   "execution_count": 15,
   "metadata": {
    "collapsed": false
   },
   "outputs": [
    {
     "name": "stdout",
     "output_type": "stream",
     "text": [
      "Decision Tree - Mean Squared Error: 11560.7978\n",
      "Decision Tree - Mean Absoluate ErrorL 71.0969\n",
      "Decision Tree - Root Mean Squared Log Error: 0.6259\n"
     ]
    }
   ],
   "source": [
    "mse_dt = true_vs_predicted_dt.map(lambda (t, p): squared_error(t, p)).mean()\n",
    "mae_dt = true_vs_predicted_dt.map(lambda (t, p): abs_error(t, p)).mean()\n",
    "rmsle_dt = np.sqrt(true_vs_predicted_dt.map(lambda (t, p): squared_log_error(t, p)).mean())\n",
    "\n",
    "print \"Decision Tree - Mean Squared Error: %2.4f\" % mse_dt\n",
    "print \"Decision Tree - Mean Absoluate ErrorL %2.4f\" % mae_dt\n",
    "print \"Decision Tree - Root Mean Squared Log Error: %2.4f\" % rmsle_dt"
   ]
  },
  {
   "cell_type": "markdown",
   "metadata": {},
   "source": [
    "## 改進模型性能與參數調優"
   ]
  },
  {
   "cell_type": "code",
   "execution_count": 16,
   "metadata": {
    "collapsed": false
   },
   "outputs": [
    {
     "name": "stdout",
     "output_type": "stream",
     "text": [
      "Populating the interactive namespace from numpy and matplotlib\n"
     ]
    }
   ],
   "source": [
    "%pylab inline"
   ]
  },
  {
   "cell_type": "code",
   "execution_count": 17,
   "metadata": {
    "collapsed": false
   },
   "outputs": [
    {
     "data": {
      "image/png": "[encoded data removed]",
      "text/plain": [
       "<matplotlib.figure.Figure at 0x7f6796cdfad0>"
      ]
     },
     "metadata": {},
     "output_type": "display_data"
    }
   ],
   "source": [
    "targets = records.map(lambda r: float(r[-1])).collect()\n",
    "hist(targets, bins=40, color='lightblue', normed=True)\n",
    "fig = matplotlib.pyplot.gcf()"
   ]
  },
  {
   "cell_type": "code",
   "execution_count": 18,
   "metadata": {
    "collapsed": false
   },
   "outputs": [
    {
     "data": {
      "image/png": "[encoded data removed]",
      "text/plain": [
       "<matplotlib.figure.Figure at 0x7f6796cdf190>"
      ]
     },
     "metadata": {},
     "output_type": "display_data"
    }
   ],
   "source": [
    "log_features = records.map(lambda r: np.log(float(r[-1]))).collect()\n",
    "hist(log_features, bins=40, color='lightblue', normed=True)\n",
    "fig = matplotlib.pyplot.gcf()"
   ]
  },
  {
   "cell_type": "code",
   "execution_count": 19,
   "metadata": {
    "collapsed": false
   },
   "outputs": [
    {
     "data": {
      "image/png": "[encoded data removed]",
      "text/plain": [
       "<matplotlib.figure.Figure at 0x7f679436d150>"
      ]
     },
     "metadata": {},
     "output_type": "display_data"
    }
   ],
   "source": [
    "sqrt_targets = records.map(lambda r: np.sqrt(float(r[-1]))).collect()\n",
    "hist(sqrt_targets, bins=40, color='lightblue', normed=True)\n",
    "fig = matplotlib.pyplot.gcf()"
   ]
  },
  {
   "cell_type": "markdown",
   "metadata": {},
   "source": [
    "### 目標變數對數變換後，線性模型的性能"
   ]
  },
  {
   "cell_type": "code",
   "execution_count": 20,
   "metadata": {
    "collapsed": false
   },
   "outputs": [
    {
     "name": "stdout",
     "output_type": "stream",
     "text": [
      "Mean Squared Error: 47024.5722\n",
      "Mean Absoluate Error: 149.2886\n",
      "Root Mean Squared Log Error: 1.4526\n",
      "Non log-transformed predictions:\n",
      "[(16.0, 135.94648455498356), (40.0, 134.38058174607249), (32.0, 134.18407938613737)]\n",
      "Log-transformed predictions:\n",
      "[(15.999999999999998, 40.91617570453451), (40.0, 39.374013505300653), (32.0, 38.932873447929204)]\n"
     ]
    }
   ],
   "source": [
    "data_log = data.map(lambda lp: LabeledPoint(np.log(lp.label), lp.features))\n",
    "model_log = LinearRegressionWithSGD.train(data_log, iterations=10, step=0.1)\n",
    "true_vs_predicted_log = data_log.map(lambda p: (np.exp(p.label), np.exp(model_log.predict(p.features))))\n",
    "\n",
    "mse_log = true_vs_predicted_log.map(lambda (t, p): squared_error(t, p)).mean()\n",
    "mae_log = true_vs_predicted_log.map(lambda (t, p): abs_error(t,p)).mean()\n",
    "rmsle_log = np.sqrt(true_vs_predicted_log.map(lambda (t, p): squared_log_error(t, p)).mean())\n",
    "\n",
    "print \"Mean Squared Error: %2.4f\" % mse_log\n",
    "print \"Mean Absoluate Error: %2.4f\" % mae_log\n",
    "print \"Root Mean Squared Log Error: %2.4f\" % rmsle_log\n",
    "\n",
    "print \"Non log-transformed predictions:\\n\" + str(true_vs_predicted.take(3))\n",
    "print \"Log-transformed predictions:\\n\" + str(true_vs_predicted_log.take(3))"
   ]
  },
  {
   "cell_type": "markdown",
   "metadata": {},
   "source": [
    "### 目標變數對數變換後，決策樹模型的性能"
   ]
  },
  {
   "cell_type": "code",
   "execution_count": 21,
   "metadata": {
    "collapsed": false
   },
   "outputs": [
    {
     "name": "stdout",
     "output_type": "stream",
     "text": [
      "Mean Squared Error: 14781.5760\n",
      "Mean Absoluate Error: 76.4131\n",
      "Root Mean Squared Log Error: 0.6406\n",
      "Non log-transformed predictions:\n",
      "[(16.0, 54.913223140495866), (40.0, 54.913223140495866), (32.0, 53.171052631578945)]\n",
      "Log-transformed predictions:\n",
      "[(15.999999999999998, 37.530779787154508), (40.0, 37.530779787154508), (32.0, 7.2797070993907127)]\n"
     ]
    }
   ],
   "source": [
    "data_dt_log = data_dt.map(lambda lp: LabeledPoint(np.log(lp.label), lp.features))\n",
    "dt_model_log = DecisionTree.trainRegressor(data_dt_log, {})\n",
    "\n",
    "preds_log = dt_model_log.predict(data_dt_log.map(lambda p: p.features))\n",
    "actual_log = data_dt_log.map(lambda p: p.label)\n",
    "true_vs_predicted_dt_log = actual_log.zip(preds_log).map(lambda (t, p): (np.exp(t), np.exp(p)))\n",
    "\n",
    "mse_dt_log = true_vs_predicted_dt_log.map(lambda (t, p): squared_error(t, p)).mean()\n",
    "mae_dt_log = true_vs_predicted_dt_log.map(lambda (t, p): abs_error(t,p)).mean()\n",
    "rmsle_dt_log = np.sqrt(true_vs_predicted_dt_log.map(lambda (t, p): squared_log_error(t, p)).mean())\n",
    "\n",
    "print \"Mean Squared Error: %2.4f\" % mse_dt_log\n",
    "print \"Mean Absoluate Error: %2.4f\" % mae_dt_log\n",
    "print \"Root Mean Squared Log Error: %2.4f\" % rmsle_dt_log\n",
    "print \"Non log-transformed predictions:\\n\" + str(true_vs_predicted_dt.take(3))\n",
    "print \"Log-transformed predictions:\\n\" + str(true_vs_predicted_dt_log.take(3))"
   ]
  },
  {
   "cell_type": "markdown",
   "metadata": {},
   "source": [
    "### 創建訓練集與測試集來評估模型"
   ]
  },
  {
   "cell_type": "code",
   "execution_count": 22,
   "metadata": {
    "collapsed": false
   },
   "outputs": [
    {
     "name": "stdout",
     "output_type": "stream",
     "text": [
      "Training data size: 13843\n",
      "Test data size: 3536\n",
      "Total data size: 17379\n",
      "Train + Test size: 17379\n"
     ]
    }
   ],
   "source": [
    "data_with_idx = data.zipWithIndex().map(lambda (k, v): (v, k))\n",
    "test = data_with_idx.sample(False, 0.2, 42)\n",
    "train = data_with_idx.subtractByKey(test)\n",
    "\n",
    "train_data = train.map(lambda (idx, p): p)\n",
    "test_data = test.map(lambda (idx, p): p)\n",
    "train_size = train_data.count()\n",
    "test_size = test_data.count()\n",
    "\n",
    "print \"Training data size: %d\" % train_size\n",
    "print \"Test data size: %d\" % test_size\n",
    "print \"Total data size: %d\" % num_data\n",
    "print \"Train + Test size: %d\" % (train_size + test_size)"
   ]
  },
  {
   "cell_type": "code",
   "execution_count": 23,
   "metadata": {
    "collapsed": false
   },
   "outputs": [
    {
     "name": "stdout",
     "output_type": "stream",
     "text": [
      "Training data size: 13843\n",
      "Test data size: 3536\n",
      "Total data size: 17379\n",
      "Train + Test size: 17379\n"
     ]
    }
   ],
   "source": [
    "data_with_idx_dt = data_dt.zipWithIndex().map(lambda (k, v): (v, k))\n",
    "test_dt = data_with_idx_dt.sample(False, 0.2, 42)\n",
    "train_dt = data_with_idx_dt.subtractByKey(test_dt)\n",
    "\n",
    "train_data_dt = train_dt.map(lambda (idx, p): p)\n",
    "test_data_dt = test_dt.map(lambda (idx, p): p)\n",
    "train_size_dt = train_data_dt.count()\n",
    "test_size_dt = test_data_dt.count()\n",
    "print \"Training data size: %d\" % train_size_dt\n",
    "print \"Test data size: %d\" % test_size_dt\n",
    "print \"Total data size: %d\" % num_data\n",
    "print \"Train + Test size: %d\" % (train_size_dt + test_size_dt)"
   ]
  },
  {
   "cell_type": "markdown",
   "metadata": {},
   "source": [
    "### 參數設置對線性模型性能的影響"
   ]
  },
  {
   "cell_type": "code",
   "execution_count": 24,
   "metadata": {
    "collapsed": true
   },
   "outputs": [],
   "source": [
    "def evaluate(train, test, iterations, step, regParam, regType, intercept):\n",
    "    model = LinearRegressionWithSGD.train(train, iterations, step, regParam=regParam, regType=regType, intercept=intercept)\n",
    "    tp = test.map(lambda p: (p.label, model.predict(p.features)))\n",
    "    rmsle = np.sqrt(tp.map(lambda (t, p): squared_log_error(t, p)).mean())\n",
    "    return rmsle"
   ]
  },
  {
   "cell_type": "markdown",
   "metadata": {},
   "source": [
    "#### 迭代"
   ]
  },
  {
   "cell_type": "code",
   "execution_count": 25,
   "metadata": {
    "collapsed": false
   },
   "outputs": [
    {
     "name": "stdout",
     "output_type": "stream",
     "text": [
      "[1, 5, 10, 20, 50, 100]\n",
      "[2.8032563666537595, 1.9645810957004637, 1.7086221968290249, 1.5255705039801279, 1.3966970293255028, 1.3733178276026903]\n"
     ]
    },
    {
     "data": {
      "image/png": "[encoded data removed]",
      "text/plain": [
       "<matplotlib.figure.Figure at 0x7f67941e8bd0>"
      ]
     },
     "metadata": {},
     "output_type": "display_data"
    }
   ],
   "source": [
    "params = [1, 5, 10, 20, 50, 100]\n",
    "metrics = [evaluate(train_data, test_data, param, 0.01, 0.0, 'l2', False) for param in params]\n",
    "print params\n",
    "print metrics\n",
    "plot(params, metrics)\n",
    "fig = matplotlib.pyplot.gcf()"
   ]
  },
  {
   "cell_type": "markdown",
   "metadata": {},
   "source": [
    "#### 步長"
   ]
  },
  {
   "cell_type": "code",
   "execution_count": 26,
   "metadata": {
    "collapsed": false
   },
   "outputs": [
    {
     "name": "stdout",
     "output_type": "stream",
     "text": [
      "[0.01, 0.025, 0.05, 0.1, 1.0]\n",
      "[1.7086221968290249, 1.3961771685298443, 1.3926599438054552, 1.4697573635648185, nan]\n"
     ]
    },
    {
     "data": {
      "image/png": "[encoded data removed]",
      "text/plain": [
       "<matplotlib.figure.Figure at 0x7f679429ac90>"
      ]
     },
     "metadata": {},
     "output_type": "display_data"
    }
   ],
   "source": [
    "params = [0.01, 0.025, 0.05, 0.1, 1.0]\n",
    "metrics = [evaluate(train_data, test_data, 10, param, 0.0, 'l2', False) for param in params]\n",
    "print params\n",
    "print metrics\n",
    "plot(params, metrics)\n",
    "fig = matplotlib.pyplot.gcf()"
   ]
  },
  {
   "cell_type": "markdown",
   "metadata": {},
   "source": [
    "#### L2 正則化"
   ]
  },
  {
   "cell_type": "code",
   "execution_count": 27,
   "metadata": {
    "collapsed": false
   },
   "outputs": [
    {
     "name": "stdout",
     "output_type": "stream",
     "text": [
      "[0.0, 0.01, 0.1, 1.0, 5.0, 10.0, 20.0]\n",
      "[1.4697573635648185, 1.469113028540231, 1.4634188057285833, 1.4165237605797092, 1.376225790336346, 1.4903118644619404, 1.7653526514482447]\n"
     ]
    },
    {
     "data": {
      "image/png": "[encoded data removed]",
      "text/plain": [
       "<matplotlib.figure.Figure at 0x7f67942264d0>"
      ]
     },
     "metadata": {},
     "output_type": "display_data"
    }
   ],
   "source": [
    "params = [0.0, 0.01, 0.1, 1.0, 5.0, 10.0, 20.0]\n",
    "metrics = [evaluate(train_data, test_data, 10, 0.1, param, 'l2', False) for param in params]\n",
    "print params\n",
    "print metrics\n",
    "plot(params, metrics)\n",
    "fig = matplotlib.pyplot.gcf()\n",
    "pyplot.xscale('log')"
   ]
  },
  {
   "cell_type": "markdown",
   "metadata": {},
   "source": [
    "#### L1 正則化"
   ]
  },
  {
   "cell_type": "code",
   "execution_count": 28,
   "metadata": {
    "collapsed": false
   },
   "outputs": [
    {
     "name": "stdout",
     "output_type": "stream",
     "text": [
      "[0.0, 0.01, 0.1, 1.0, 10.0, 100.0, 1000.0]\n",
      "[1.4697573635648185, 1.4697190854099258, 1.4693749895529873, 1.4662179497868792, 1.4386546455290785, 1.6683522645623436, 4.7975574647546564]\n"
     ]
    },
    {
     "data": {
      "image/png": "[encoded data removed]",
      "text/plain": [
       "<matplotlib.figure.Figure at 0x7f6794420610>"
      ]
     },
     "metadata": {},
     "output_type": "display_data"
    }
   ],
   "source": [
    "params = [0.0, 0.01, 0.1, 1.0, 10.0, 100.0, 1000.0]\n",
    "metrics = [evaluate(train_data, test_data, 10, 0.1, param, 'l1', False) for param in params]\n",
    "print params\n",
    "print metrics\n",
    "plot(params, metrics)\n",
    "fig = matplotlib.pyplot.gcf()\n",
    "pyplot.xscale('log')"
   ]
  },
  {
   "cell_type": "code",
   "execution_count": 29,
   "metadata": {
    "collapsed": false
   },
   "outputs": [
    {
     "name": "stdout",
     "output_type": "stream",
     "text": [
      "L1 (1.0) number of zero weights: 1\n",
      "L1 (10.0) number of zero weights: 31\n",
      "L1 (100.0) number of zero weights: 57\n"
     ]
    }
   ],
   "source": [
    "model_l1 = LinearRegressionWithSGD.train(train_data, 10, 0.1, regParam=1.0, regType='l1', intercept=False)\n",
    "model_l1_10 = LinearRegressionWithSGD.train(train_data, 10, 0.1, regParam=10.0, regType='l1', intercept=False)\n",
    "model_l1_100 = LinearRegressionWithSGD.train(train_data, 10, 0.1, regParam=100.0, regType='l1', intercept=False)\n",
    "\n",
    "print \"L1 (1.0) number of zero weights: \" + str(sum(model_l1.weights.array == 0))\n",
    "print \"L1 (10.0) number of zero weights: \" + str(sum(model_l1_10.weights.array == 0))\n",
    "print \"L1 (100.0) number of zero weights: \" + str(sum(model_l1_100.weights.array == 0))"
   ]
  },
  {
   "cell_type": "markdown",
   "metadata": {},
   "source": [
    "#### 截距"
   ]
  },
  {
   "cell_type": "code",
   "execution_count": 30,
   "metadata": {
    "collapsed": false
   },
   "outputs": [
    {
     "name": "stdout",
     "output_type": "stream",
     "text": [
      "[False, True]\n",
      "[1.4165237605797092, 1.4420992359704834]\n"
     ]
    },
    {
     "data": {
      "image/png": "[encoded data removed]",
      "text/plain": [
       "<matplotlib.figure.Figure at 0x7f67948676d0>"
      ]
     },
     "metadata": {},
     "output_type": "display_data"
    }
   ],
   "source": [
    "params = [False, True]\n",
    "metrics = [evaluate(train_data, test_data, 10, 0.1, 1.0, 'l2', param) for param in params]\n",
    "print params\n",
    "print metrics\n",
    "\n",
    "bar(params, metrics, color='lightblue')\n",
    "fig = matplotlib.pyplot.gcf()"
   ]
  },
  {
   "cell_type": "markdown",
   "metadata": {},
   "source": [
    "### 參數設置對決策樹性能的影響"
   ]
  },
  {
   "cell_type": "code",
   "execution_count": 31,
   "metadata": {
    "collapsed": true
   },
   "outputs": [],
   "source": [
    "def evaluate_dt(train, test, maxDepth, maxBins):\n",
    "    model = DecisionTree.trainRegressor(train, {}, impurity='variance', maxDepth=maxDepth, maxBins=maxBins)\n",
    "    preds = model.predict(test.map(lambda p: p.features))\n",
    "    actual = test.map(lambda p: p.label)\n",
    "    tp = actual.zip(preds)\n",
    "    rmsle = np.sqrt(tp.map(lambda (t, p): squared_log_error(t, p)).mean())\n",
    "    return rmsle"
   ]
  },
  {
   "cell_type": "markdown",
   "metadata": {},
   "source": [
    "#### 樹深度"
   ]
  },
  {
   "cell_type": "code",
   "execution_count": 32,
   "metadata": {
    "collapsed": false
   },
   "outputs": [
    {
     "name": "stdout",
     "output_type": "stream",
     "text": [
      "[1, 2, 3, 4, 5, 10, 20]\n",
      "[1.0096683340936519, 0.91969992278272761, 0.8153844681589919, 0.73662190225082969, 0.63743991277301437, 0.41268609723707311, 0.44150092501568089]\n"
     ]
    },
    {
     "data": {
      "image/png": "[encoded data removed]",
      "text/plain": [
       "<matplotlib.figure.Figure at 0x7f678fee6610>"
      ]
     },
     "metadata": {},
     "output_type": "display_data"
    }
   ],
   "source": [
    "params = [1, 2, 3, 4, 5, 10, 20]\n",
    "metrics = [evaluate_dt(train_data_dt, test_data_dt, param, 32) for param in params]\n",
    "print params\n",
    "print metrics\n",
    "plot(params, metrics)\n",
    "fig = matplotlib.pyplot.gcf()"
   ]
  },
  {
   "cell_type": "markdown",
   "metadata": {},
   "source": [
    "#### 最大劃分數"
   ]
  },
  {
   "cell_type": "code",
   "execution_count": 33,
   "metadata": {
    "collapsed": false
   },
   "outputs": [
    {
     "name": "stdout",
     "output_type": "stream",
     "text": [
      "[2, 4, 8, 16, 32, 64, 100]\n",
      "[1.2571956557524344, 0.81163776220529393, 0.75846230141673943, 0.62020394014589464, 0.63743991277301437, 0.63743991277301437, 0.63743991277301437]\n"
     ]
    },
    {
     "data": {
      "image/png": "[encoded data removed]",
      "text/plain": [
       "<matplotlib.figure.Figure at 0x7f67944be310>"
      ]
     },
     "metadata": {},
     "output_type": "display_data"
    }
   ],
   "source": [
    "params = [2, 4, 8, 16, 32, 64, 100]\n",
    "metrics = [evaluate_dt(train_data_dt, test_data_dt, 5, param) for param in params]\n",
    "print params\n",
    "print metrics\n",
    "plot(params, metrics)\n",
    "fig = matplotlib.pyplot.gcf()"
   ]
  }
 ],
 "metadata": {
  "kernelspec": {
   "display_name": "Python [Root]",
   "language": "python",
   "name": "Python [Root]"
  },
  "language_info": {
   "codemirror_mode": {
    "name": "ipython",
    "version": 2
   },
   "file_extension": ".py",
   "mimetype": "text/x-python",
   "name": "python",
   "nbconvert_exporter": "python",
   "pygments_lexer": "ipython2",
   "version": "2.7.12"
  }
 },
 "nbformat": 4,
 "nbformat_minor": 0
}
